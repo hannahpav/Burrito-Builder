{
 "cells": [
  {
   "cell_type": "code",
   "execution_count": 2,
   "id": "ca17056f",
   "metadata": {},
   "outputs": [],
   "source": [
    "import json\n",
    "import pandas as pd "
   ]
  },
  {
   "cell_type": "code",
   "execution_count": 3,
   "id": "20612e72",
   "metadata": {},
   "outputs": [],
   "source": [
    "df = pd.read_json('final_burrito_data.json')"
   ]
  },
  {
   "cell_type": "code",
   "execution_count": null,
   "id": "d2ddcda8",
   "metadata": {},
   "outputs": [],
   "source": [
    "df.head()"
   ]
  },
  {
   "cell_type": "code",
   "execution_count": 5,
   "id": "61cd50f0",
   "metadata": {},
   "outputs": [],
   "source": [
    "aust_beef = df['Australia']['Beef']"
   ]
  },
  {
   "cell_type": "code",
   "execution_count": 7,
   "id": "26b94415",
   "metadata": {},
   "outputs": [
    {
     "data": {
      "text/plain": [
       "{'Japan': {'costPerKg': 4.090770962376237,\n",
       "  'distance': 4842.236961437696,\n",
       "  'Production_Env_Impact': 26.50050298364765,\n",
       "  'Latitude': 36.2048,\n",
       "  'Longitude': 138.2529},\n",
       " 'New Zealand': {'costPerKg': 0.5208247983630301,\n",
       "  'distance': 1342.8307153057367,\n",
       "  'Production_Env_Impact': 25.59170303740447,\n",
       "  'Latitude': -40.9006,\n",
       "  'Longitude': 174.886},\n",
       " 'Australia': {'costPerKg': 0.5524163311054671,\n",
       "  'distance': 0.0,\n",
       "  'Production_Env_Impact': 25.58850236391305,\n",
       "  'Latitude': -25.2744,\n",
       "  'Longitude': 133.7751}}"
      ]
     },
     "execution_count": 7,
     "metadata": {},
     "output_type": "execute_result"
    }
   ],
   "source": [
    "aust_beef"
   ]
  }
 ],
 "metadata": {
  "kernelspec": {
   "display_name": "Python 3 (ipykernel)",
   "language": "python",
   "name": "python3"
  },
  "language_info": {
   "codemirror_mode": {
    "name": "ipython",
    "version": 3
   },
   "file_extension": ".py",
   "mimetype": "text/x-python",
   "name": "python",
   "nbconvert_exporter": "python",
   "pygments_lexer": "ipython3",
   "version": "3.10.6"
  }
 },
 "nbformat": 4,
 "nbformat_minor": 5
}
