{
 "cells": [
  {
   "cell_type": "markdown",
   "id": "66153cd9-fd7f-4ab7-83c9-c7fabc1f1b20",
   "metadata": {},
   "source": [
    "## Burrito Builder Application Test Script\n",
    "The tests below will generate known solutions for comparing with the results presented by the Pareto Front and verify that the source countries being displayed on the map are correct.<br>\n",
    "For each test case, simply call the build_burrito_test function with the following parameters:\n",
    "> - Data: The imported .json file<br>\n",
    "> - home_country: The importing country or the country where the burrito is being built. defaults to Australia.<br>\n",
    "> - ingredients: A list containing up to three ingredients. Defaults to Tortilla.<br>\n",
    "> - budget: The amount of money that cannot be exceeded. Defaults to $10\n",
    "\n",
    "**Here is the list of home_country that can be used in the function call.**<br>\n",
    "<br>\n",
    "['Australia', 'Brazil', 'Bolivia', 'Canada', 'Cabo Verde', 'Colombia',  'Czechia', 'Guyana', 'Luxembourg', 'Madagascar', 'Mauritius', 'Mexico',\r\n",
    "       'Romania', 'Mozambique', 'South Africa', 'Serbia', 'Slovakia    'Uruguay', 'Turkey', 'Zambia', 'Argentina', 'Chile', 'Iceland',\r\n",
    "       'Paraguay', 'Philippines', 'Tanzania', 'U\n",
    "\n",
    "**Here is the list of ingredients that can be used in the function call.**<br>\n",
    "<br>\n",
    "['Beef', 'Pork', 'Chicken', 'Sour Cream', 'Cheese', 'Onions', 'Beans',  'Avocado', 'Rice', 'Tortilla', 'Salsa', 'Lettuce', 'Tomato']SA']"
   ]
  },
  {
   "cell_type": "code",
   "execution_count": 1,
   "id": "2550195b-f7de-49cf-9289-4ccf2b9c62f5",
   "metadata": {},
   "outputs": [
    {
     "data": {
      "text/plain": [
       "Index(['Beef', 'Pork', 'Chicken', 'Sour Cream', 'Cheese', 'Onions', 'Beans',\n",
       "       'Avocado', 'Rice', 'Tortilla', 'Salsa', 'Lettuce', 'Tomato'],\n",
       "      dtype='object')"
      ]
     },
     "execution_count": 1,
     "metadata": {},
     "output_type": "execute_result"
    }
   ],
   "source": [
    "# from pandas import json_normalize\n",
    "import pandas as pd\n",
    "import numpy as np\n",
    "burr_data = pd.read_json('final_burrito_data.json')\n",
    "# ingred_data = pd.read_json('ingredient_data.json')\n",
    "burr_data.index"
   ]
  },
  {
   "cell_type": "markdown",
   "id": "284a6da2-859c-4680-82c7-3454be0e404f",
   "metadata": {},
   "source": [
    "### Equations\n",
    "\n",
    ">>> $Cost(i,\\ s,\\ h) = FoodCost(i,\\ s) + TransCost(s,\\ h)$<br>\n",
    "<br>\n",
    ">>> $Env_{Impact}(i, s, h) = \\text{FoodImpact(i)} + \\text(TransImpact(s,\\ h))$"
   ]
  },
  {
   "cell_type": "markdown",
   "id": "337bb358-1ba5-493e-8b23-f7b36f451fea",
   "metadata": {},
   "source": [
    "## Function"
   ]
  },
  {
   "cell_type": "markdown",
   "id": "f77bb0df-2ec9-4c48-aa37-1546c023ccd7",
   "metadata": {},
   "source": [
    "### Test cases: Function"
   ]
  },
  {
   "cell_type": "code",
   "execution_count": 2,
   "id": "c0ed1811-810a-4a96-aa81-d79ddd0fb138",
   "metadata": {},
   "outputs": [],
   "source": [
    "def build_burrito_test(data, home_country='Australia', ingredients=['Tortilla'], budget=10):\n",
    "    \"\"\"\n",
    "    This function will allow for testing up to three ingredients at a time. \n",
    "    Going beyond three ingredients takes a really long time to run.\n",
    "    \"\"\"\n",
    "    assert type(home_country) is str\n",
    "    assert type(data) is pd.DataFrame\n",
    "    assert type(ingredients) is list\n",
    "    pareto_front = []\n",
    "\n",
    "    # Case 1: Single ingredient\n",
    "    if len(ingredients) == 1:\n",
    "        single_df = pd.DataFrame(data.loc[ingredients[0]][home_country])\n",
    "        single_df.drop('Latitude', inplace=True)\n",
    "        single_df.drop('Longitude', inplace=True)\n",
    "        # Melt DataFrame\n",
    "        cost = single_df.loc['cost']\n",
    "        impact = single_df.loc['impact']\n",
    "        final_df = pd.DataFrame({'cost': cost, 'impact': impact})\n",
    "        budget_df = final_df[final_df['cost'] <= budget]\n",
    "        budget_sorted = budget_df.sort_values(by=['cost'])\n",
    "        # Get non-dominating solutions\n",
    "        for i, row_i in budget_sorted.iterrows():\n",
    "            is_dominated = False\n",
    "            for j, row_j in budget_sorted.iterrows():\n",
    "                if (row_j['cost'] <= row_i['cost'] and row_j['impact'] <= row_i['impact'] and \n",
    "                   (row_j['cost'] < row_i['cost'] or row_j['impact'] < row_i['impact'])):\n",
    "                    is_dominated = True\n",
    "                    break\n",
    "            if not is_dominated:\n",
    "                pareto_front.append(row_i)\n",
    "        return pd.DataFrame(pareto_front)\n",
    "\n",
    "    # Case 2: Two ingredients\n",
    "    elif len(ingredients) == 2:\n",
    "        combinations = []\n",
    "        for ting_source, ting_values in data[home_country][ingredients[0]].items():                   \n",
    "            for ning_source, ning_values in data[home_country][ingredients[1]].items():\n",
    "                tot_cst = ting_values['cost'] + ning_values['cost']       \n",
    "                tot_impt = ting_values['impact'] + ning_values['impact']\n",
    "                if tot_cst <= budget:\n",
    "                    combinations.append({ingredients[0] +'_'+'source': ting_source,\n",
    "                                        ingredients[1] +'_'+ 'source': ning_source,\n",
    "                                        'total cost': tot_cst,\n",
    "                                        'total impact': tot_impt})\n",
    "        combinations_df = pd.DataFrame(combinations)\n",
    "        combinations_sorted = combinations_df.sort_values(by=['total cost'])\n",
    "        for i, row_i in combinations_sorted.iterrows():\n",
    "            comb_dominated = False\n",
    "            for j, row_j in combinations_sorted.iterrows():\n",
    "                if (row_j['total cost'] <= row_i['total cost'] and row_j['total impact'] <= row_i['total impact'] and\n",
    "                    (row_j['total cost'] < row_i['total cost'] or row_j['total impact'] < row_i['total impact'])):\n",
    "                    comb_dominated = True\n",
    "                    break\n",
    "            if not comb_dominated:\n",
    "                pareto_front.append(row_i)\n",
    "        out_df = pd.DataFrame(pareto_front)\n",
    "        out_df.reset_index(drop=True, inplace=True)\n",
    "        return out_df\n",
    "        \n",
    "    # Case 3: Three ingredients\n",
    "    elif len(ingredients) == 3:\n",
    "        combinations = []\n",
    "        for ting_source, ting_values in data[home_country][ingredients[0]].items():                   \n",
    "            for ning_source, ning_values in data[home_country][ingredients[1]].items():\n",
    "                for ling_source, ling_values in data[home_country][ingredients[2]].items():\n",
    "                    tot_cst = ting_values['cost'] + ning_values['cost'] + ling_values['cost']      \n",
    "                    tot_impt = ting_values['impact'] + ning_values['impact'] + ling_values['impact']\n",
    "                    if tot_cst <= budget:\n",
    "                        combinations.append({ingredients[0] +'_'+'source': ting_source,\n",
    "                                             ingredients[1] +'_'+ 'source': ning_source,\n",
    "                                             ingredients[2] +'_'+ 'source': ling_source,\n",
    "                                             'total cost': tot_cst,\n",
    "                                             'total impact': tot_impt})\n",
    "        combinations_df = pd.DataFrame(combinations)\n",
    "        combinations_sorted = combinations_df.sort_values(by=['total cost'])\n",
    "        for i, row_i in combinations_sorted.iterrows():\n",
    "            comb_dominated = False\n",
    "            for j, row_j in combinations_sorted.iterrows():\n",
    "                if (row_j['total cost'] <= row_i['total cost'] and row_j['total impact'] <= row_i['total impact'] and\n",
    "                    (row_j['total cost'] < row_i['total cost'] or row_j['total impact'] < row_i['total impact'])):\n",
    "                    comb_dominated = True\n",
    "                    break\n",
    "            if not comb_dominated:\n",
    "                pareto_front.append(row_i)\n",
    "        out_df = pd.DataFrame(pareto_front)\n",
    "        out_df.reset_index(drop=True, inplace=True)\n",
    "        return out_df\n",
    "\n",
    "    # Case 4: Four ingredients\n",
    "    elif len(ingredients) == 4:\n",
    "        combinations = []\n",
    "        for ting_source, ting_values in data[home_country][ingredients[0]].items():                   \n",
    "            for ning_source, ning_values in data[home_country][ingredients[1]].items():\n",
    "                for ling_source, ling_values in data[home_country][ingredients[2]].items():\n",
    "                    for fing_source, fing_values in data[home_country][ingredients[3]].items():\n",
    "                        tot_cst = ting_values['cost'] + ning_values['cost'] + ling_values['cost'] + fing_values['cost']      \n",
    "                        tot_impt = ting_values['impact'] + ning_values['impact'] + ling_values['impact'] + fing_values['impact']\n",
    "                        if tot_cst <= budget:\n",
    "                            combinations.append({ingredients[0] +'_'+'source': ting_source,\n",
    "                                                 ingredients[1] +'_'+ 'source': ning_source,\n",
    "                                                 ingredients[2] +'_'+ 'source': ling_source,\n",
    "                                                 ingredients[3] +'_'+ 'source': fing_source,\n",
    "                                                 'total cost': tot_cst,\n",
    "                                                 'total impact': tot_impt})\n",
    "        combinations_df = pd.DataFrame(combinations)\n",
    "        combinations_sorted = combinations_df.sort_values(by=['total cost'])\n",
    "        for i, row_i in combinations_sorted.iterrows():\n",
    "            comb_dominated = False\n",
    "            for j, row_j in combinations_sorted.iterrows():\n",
    "                if (row_j['total cost'] <= row_i['total cost'] and row_j['total impact'] <= row_i['total impact'] and\n",
    "                    (row_j['total cost'] < row_i['total cost'] or row_j['total impact'] < row_i['total impact'])):\n",
    "                    comb_dominated = True\n",
    "                    break\n",
    "            if not comb_dominated:\n",
    "                pareto_front.append(row_i)\n",
    "        out_df = pd.DataFrame(pareto_front)\n",
    "        out_df.reset_index(drop=True, inplace=True)\n",
    "        return out_df"
   ]
  },
  {
   "cell_type": "markdown",
   "id": "2e1a36d5-9e06-4c59-a6e3-32b6b131ab29",
   "metadata": {},
   "source": [
    "## Test Cases"
   ]
  },
  {
   "cell_type": "markdown",
   "id": "9bc9c1d1-9d4f-4dd1-8536-9035b9aff6ca",
   "metadata": {},
   "source": [
    "### Case 1: Single ingredient (Tortilla).\n",
    "The single ingredient case is only able to test Tortilla since the burrito builder application defaults to Tortilla as the base ingredient but any source country can be used from the list."
   ]
  },
  {
   "cell_type": "code",
   "execution_count": 3,
   "id": "447013f6-7fbb-48c8-b01d-a8042bacf2fa",
   "metadata": {},
   "outputs": [
    {
     "data": {
      "text/html": [
       "<div>\n",
       "<style scoped>\n",
       "    .dataframe tbody tr th:only-of-type {\n",
       "        vertical-align: middle;\n",
       "    }\n",
       "\n",
       "    .dataframe tbody tr th {\n",
       "        vertical-align: top;\n",
       "    }\n",
       "\n",
       "    .dataframe thead th {\n",
       "        text-align: right;\n",
       "    }\n",
       "</style>\n",
       "<table border=\"1\" class=\"dataframe\">\n",
       "  <thead>\n",
       "    <tr style=\"text-align: right;\">\n",
       "      <th></th>\n",
       "      <th>cost</th>\n",
       "      <th>impact</th>\n",
       "    </tr>\n",
       "  </thead>\n",
       "  <tbody>\n",
       "    <tr>\n",
       "      <th>Algeria</th>\n",
       "      <td>0.770920</td>\n",
       "      <td>3.108346</td>\n",
       "    </tr>\n",
       "    <tr>\n",
       "      <th>Ireland</th>\n",
       "      <td>0.946317</td>\n",
       "      <td>3.082788</td>\n",
       "    </tr>\n",
       "    <tr>\n",
       "      <th>Belgium</th>\n",
       "      <td>1.009932</td>\n",
       "      <td>3.021919</td>\n",
       "    </tr>\n",
       "    <tr>\n",
       "      <th>Luxembourg</th>\n",
       "      <td>1.060625</td>\n",
       "      <td>2.973404</td>\n",
       "    </tr>\n",
       "  </tbody>\n",
       "</table>\n",
       "</div>"
      ],
      "text/plain": [
       "                cost    impact\n",
       "Algeria     0.770920  3.108346\n",
       "Ireland     0.946317  3.082788\n",
       "Belgium     1.009932  3.021919\n",
       "Luxembourg  1.060625  2.973404"
      ]
     },
     "execution_count": 3,
     "metadata": {},
     "output_type": "execute_result"
    }
   ],
   "source": [
    "build_burrito_test(burr_data, home_country='Luxembourg', ingredients=['Tortilla'], budget=20)"
   ]
  },
  {
   "cell_type": "markdown",
   "id": "743330fb-f89f-47c3-95d5-adfd5901576d",
   "metadata": {},
   "source": [
    "### Case 2: Two ingredients\n",
    "This test is completed by selecting another ingredient to accompany the base ingredient, Tortilla. Any country from the list can be selected as the home_country and a budget amount can be entered if the default amount of $10 is not desired."
   ]
  },
  {
   "cell_type": "code",
   "execution_count": 4,
   "id": "3e342ef8-a6ce-483c-b254-a8e6b18a1c7a",
   "metadata": {},
   "outputs": [
    {
     "data": {
      "text/html": [
       "<div>\n",
       "<style scoped>\n",
       "    .dataframe tbody tr th:only-of-type {\n",
       "        vertical-align: middle;\n",
       "    }\n",
       "\n",
       "    .dataframe tbody tr th {\n",
       "        vertical-align: top;\n",
       "    }\n",
       "\n",
       "    .dataframe thead th {\n",
       "        text-align: right;\n",
       "    }\n",
       "</style>\n",
       "<table border=\"1\" class=\"dataframe\">\n",
       "  <thead>\n",
       "    <tr style=\"text-align: right;\">\n",
       "      <th></th>\n",
       "      <th>Tortilla_source</th>\n",
       "      <th>Chicken_source</th>\n",
       "      <th>total cost</th>\n",
       "      <th>total impact</th>\n",
       "    </tr>\n",
       "  </thead>\n",
       "  <tbody>\n",
       "    <tr>\n",
       "      <th>0</th>\n",
       "      <td>Canada</td>\n",
       "      <td>USA</td>\n",
       "      <td>1.739152</td>\n",
       "      <td>12.695696</td>\n",
       "    </tr>\n",
       "    <tr>\n",
       "      <th>1</th>\n",
       "      <td>Peru</td>\n",
       "      <td>USA</td>\n",
       "      <td>1.748235</td>\n",
       "      <td>12.406051</td>\n",
       "    </tr>\n",
       "    <tr>\n",
       "      <th>2</th>\n",
       "      <td>Costa Rica</td>\n",
       "      <td>USA</td>\n",
       "      <td>1.962674</td>\n",
       "      <td>12.306034</td>\n",
       "    </tr>\n",
       "    <tr>\n",
       "      <th>3</th>\n",
       "      <td>Israel</td>\n",
       "      <td>USA</td>\n",
       "      <td>2.033245</td>\n",
       "      <td>12.237523</td>\n",
       "    </tr>\n",
       "  </tbody>\n",
       "</table>\n",
       "</div>"
      ],
      "text/plain": [
       "  Tortilla_source Chicken_source  total cost  total impact\n",
       "0          Canada            USA    1.739152     12.695696\n",
       "1            Peru            USA    1.748235     12.406051\n",
       "2      Costa Rica            USA    1.962674     12.306034\n",
       "3          Israel            USA    2.033245     12.237523"
      ]
     },
     "execution_count": 4,
     "metadata": {},
     "output_type": "execute_result"
    }
   ],
   "source": [
    "build_burrito_test(burr_data, home_country='Colombia', ingredients=['Tortilla', 'Chicken'], budget=20)"
   ]
  },
  {
   "cell_type": "markdown",
   "id": "1af8f803-ffd7-4f13-8392-062907622700",
   "metadata": {},
   "source": [
    "### Case 3: Three ingredients\n",
    "This test is completed by selecting two ingredients to accompany the base ingredient, Tortilla. Any country from the list can be selected as the home_country and a budget amount can be entered if the default amount of $10 is not desired."
   ]
  },
  {
   "cell_type": "code",
   "execution_count": 5,
   "id": "379768c2-ffd4-42fc-b470-398287310c33",
   "metadata": {},
   "outputs": [
    {
     "data": {
      "text/html": [
       "<div>\n",
       "<style scoped>\n",
       "    .dataframe tbody tr th:only-of-type {\n",
       "        vertical-align: middle;\n",
       "    }\n",
       "\n",
       "    .dataframe tbody tr th {\n",
       "        vertical-align: top;\n",
       "    }\n",
       "\n",
       "    .dataframe thead th {\n",
       "        text-align: right;\n",
       "    }\n",
       "</style>\n",
       "<table border=\"1\" class=\"dataframe\">\n",
       "  <thead>\n",
       "    <tr style=\"text-align: right;\">\n",
       "      <th></th>\n",
       "      <th>Tortilla_source</th>\n",
       "      <th>Chicken_source</th>\n",
       "      <th>Cheese_source</th>\n",
       "      <th>total cost</th>\n",
       "      <th>total impact</th>\n",
       "    </tr>\n",
       "  </thead>\n",
       "  <tbody>\n",
       "    <tr>\n",
       "      <th>0</th>\n",
       "      <td>South Africa</td>\n",
       "      <td>France</td>\n",
       "      <td>United Kingdom</td>\n",
       "      <td>3.279285</td>\n",
       "      <td>16.314815</td>\n",
       "    </tr>\n",
       "    <tr>\n",
       "      <th>1</th>\n",
       "      <td>Comoros</td>\n",
       "      <td>France</td>\n",
       "      <td>United Kingdom</td>\n",
       "      <td>3.290721</td>\n",
       "      <td>15.689477</td>\n",
       "    </tr>\n",
       "    <tr>\n",
       "      <th>2</th>\n",
       "      <td>Comoros</td>\n",
       "      <td>France</td>\n",
       "      <td>Belgium</td>\n",
       "      <td>3.373879</td>\n",
       "      <td>15.687472</td>\n",
       "    </tr>\n",
       "    <tr>\n",
       "      <th>3</th>\n",
       "      <td>Comoros</td>\n",
       "      <td>France</td>\n",
       "      <td>South Africa</td>\n",
       "      <td>3.382677</td>\n",
       "      <td>15.636247</td>\n",
       "    </tr>\n",
       "  </tbody>\n",
       "</table>\n",
       "</div>"
      ],
      "text/plain": [
       "  Tortilla_source Chicken_source   Cheese_source  total cost  total impact\n",
       "0    South Africa         France  United Kingdom    3.279285     16.314815\n",
       "1         Comoros         France  United Kingdom    3.290721     15.689477\n",
       "2         Comoros         France         Belgium    3.373879     15.687472\n",
       "3         Comoros         France    South Africa    3.382677     15.636247"
      ]
     },
     "execution_count": 5,
     "metadata": {},
     "output_type": "execute_result"
    }
   ],
   "source": [
    "build_burrito_test(burr_data, home_country='Madagascar', ingredients=['Tortilla', 'Chicken', 'Cheese'], budget=20)"
   ]
  }
 ],
 "metadata": {
  "kernelspec": {
   "display_name": "Python 3 (ipykernel)",
   "language": "python",
   "name": "python3"
  },
  "language_info": {
   "codemirror_mode": {
    "name": "ipython",
    "version": 3
   },
   "file_extension": ".py",
   "mimetype": "text/x-python",
   "name": "python",
   "nbconvert_exporter": "python",
   "pygments_lexer": "ipython3",
   "version": "3.12.5"
  }
 },
 "nbformat": 4,
 "nbformat_minor": 5
}
