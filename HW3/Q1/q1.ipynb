{
 "cells": [
  {
   "cell_type": "markdown",
   "id": "e5905a69",
   "metadata": {},
   "source": [
    "# CSE6242 - HW3 - Q1"
   ]
  },
  {
   "cell_type": "markdown",
   "id": "ddc5717e-fb7f-415c-ae02-16459c544fa4",
   "metadata": {},
   "source": [
    "<div class=\"alert alert-block alert-danger\">\n",
    "    WARNING: Do <strong>NOT</strong> remove any comment that says \"#export\" because that will crash the autograder in Gradescope. We use this comment to export your code in these cells for grading.\n",
    "</div>"
   ]
  },
  {
   "cell_type": "markdown",
   "id": "09289981",
   "metadata": {},
   "source": [
    "Pyspark Imports"
   ]
  },
  {
   "cell_type": "code",
   "execution_count": 1,
   "id": "139318cb",
   "metadata": {},
   "outputs": [],
   "source": [
    "#export\n",
    "### DO NOT MODIFY THIS CELL ###\n",
    "import pyspark\n",
    "from pyspark.sql import SQLContext\n",
    "from pyspark.sql.functions import hour, when, col, date_format, to_timestamp, ceil, coalesce"
   ]
  },
  {
   "cell_type": "markdown",
   "id": "3fd9e0f8",
   "metadata": {},
   "source": [
    "Initialize PySpark Context"
   ]
  },
  {
   "cell_type": "code",
   "execution_count": 2,
   "id": "b0c18c6c",
   "metadata": {},
   "outputs": [
    {
     "name": "stderr",
     "output_type": "stream",
     "text": [
      "Setting default log level to \"WARN\".\n",
      "To adjust logging level use sc.setLogLevel(newLevel). For SparkR, use setLogLevel(newLevel).\n",
      "24/10/18 21:19:27 WARN NativeCodeLoader: Unable to load native-hadoop library for your platform... using builtin-java classes where applicable\n",
      "/usr/local/lib/python3.9/dist-packages/pyspark/sql/context.py:113: FutureWarning: Deprecated in 3.0.0. Use SparkSession.builder.getOrCreate() instead.\n",
      "  warnings.warn(\n"
     ]
    }
   ],
   "source": [
    "### DO NOT MODIFY THIS CELL ###\n",
    "sc = pyspark.SparkContext(appName=\"HW3-Q1\")\n",
    "sqlContext = SQLContext(sc)"
   ]
  },
  {
   "cell_type": "markdown",
   "id": "d68ae314",
   "metadata": {},
   "source": [
    "Define function for loading data"
   ]
  },
  {
   "cell_type": "code",
   "execution_count": 3,
   "id": "7e5bbdda",
   "metadata": {},
   "outputs": [],
   "source": [
    "### DO NOT MODIFY THIS CELL ###\n",
    "def load_data():\n",
    "    df = sqlContext.read.option(\"header\",True) \\\n",
    "     .csv(\"yellow_tripdata_2019-01_short.csv\")\n",
    "    return df"
   ]
  },
  {
   "cell_type": "markdown",
   "id": "0d52409d",
   "metadata": {},
   "source": [
    "### Q1.1"
   ]
  },
  {
   "cell_type": "markdown",
   "id": "e43f6e00",
   "metadata": {},
   "source": [
    "Perform data casting to clean incoming dataset"
   ]
  },
  {
   "cell_type": "code",
   "execution_count": 194,
   "id": "11f801b4",
   "metadata": {},
   "outputs": [],
   "source": [
    "#export\n",
    "def clean_data(df):\n",
    "    '''\n",
    "    input: df a dataframe\n",
    "    output: df a dataframe with the all the original columns\n",
    "    '''\n",
    "    \n",
    "    # START YOUR CODE HERE ---------\n",
    "    df = df.withColumn('passenger_count', df['passenger_count'].cast('int'))\n",
    "    df = df.withColumn('total_amount', df['total_amount'].cast('float'))\n",
    "    df = df.withColumn('tip_amount', df['tip_amount'].cast('float'))\n",
    "    df = df.withColumn('trip_distance', df['trip_distance'].cast('float'))\n",
    "    df = df.withColumn('fare_amount', df['fare_amount'].cast('float'))\n",
    "    df = df.withColumn('tpep_pickup_datetime', df['tpep_pickup_datetime'].cast('timestamp'))\n",
    "    df = df.withColumn('tpep_dropoff_datetime', df['tpep_dropoff_datetime'].cast('timestamp'))\n",
    "  \n",
    "\n",
    "    # END YOUR CODE HERE -----------\n",
    "    \n",
    "    return df"
   ]
  },
  {
   "cell_type": "markdown",
   "id": "d4f565d0",
   "metadata": {},
   "source": [
    "### Q1.2"
   ]
  },
  {
   "cell_type": "markdown",
   "id": "72b4f712",
   "metadata": {},
   "source": [
    "Find rate per person for based on how many passengers travel between pickup and dropoff locations. "
   ]
  },
  {
   "cell_type": "code",
   "execution_count": 5,
   "id": "4e115152",
   "metadata": {},
   "outputs": [],
   "source": [
    "#export\n",
    "def common_pair(df):\n",
    "    '''\n",
    "    input: df a dataframe\n",
    "    output: df a dataframe with following columns:\n",
    "            - PULocationID\n",
    "            - DOLocationID\n",
    "            - total_passenger_count\n",
    "            - per_person_rate\n",
    "            \n",
    "    per_person_rate is the total_amount per person for a given pair.\n",
    "    \n",
    "    '''\n",
    "    \n",
    "    # START YOUR CODE HERE ---------\n",
    "\n",
    "    df = df.filter(col('PULocationID') != col('DOLocationID'))\n",
    "    df = df.groupBy('PULocationID', 'DOLocationID').agg(\n",
    "        {'passenger_count': 'sum', 'total_amount': 'sum'}\n",
    "    )\n",
    "    \n",
    "    df = df.select(\n",
    "        col('PULocationID'),\n",
    "        col('DOLocationID'),\n",
    "        col('sum(passenger_count)').cast('float').alias('total_passenger_count'),\n",
    "        col('sum(total_amount)').cast('float').alias('total_amount')\n",
    "    )\n",
    "        \n",
    "    df = df.withColumn('per_person_rate', col(\"total_amount\") / col(\"total_passenger_count\"))\n",
    "    df = df.drop(col('total_amount'))\n",
    "\n",
    "    df = df.orderBy(col('total_passenger_count').desc(), col('per_person_rate').desc())\n",
    "\n",
    "    df = df.limit(10)\n",
    "    \n",
    "    # END YOUR CODE HERE -----------\n",
    "    \n",
    "    return df"
   ]
  },
  {
   "cell_type": "markdown",
   "id": "127574ab",
   "metadata": {},
   "source": [
    "### Q1.3"
   ]
  },
  {
   "cell_type": "markdown",
   "id": "36a8fd27",
   "metadata": {},
   "source": [
    "Find trips which trip distances generate the highest tip percentage."
   ]
  },
  {
   "cell_type": "code",
   "execution_count": 23,
   "id": "376c981c",
   "metadata": {},
   "outputs": [],
   "source": [
    "#export\n",
    "def distance_with_most_tip(df):\n",
    "    '''\n",
    "    input: df a dataframe\n",
    "    output: df a dataframe with following columns:\n",
    "            - trip_distance\n",
    "            - tip_percent\n",
    "            \n",
    "    trip_percent is the percent of tip out of fare_amount\n",
    "    \n",
    "    '''\n",
    "    \n",
    "    # START YOUR CODE HERE ---------\n",
    "    df = df.filter((col('trip_distance')>0) & (col('fare_amount')>2))\n",
    "    df = df.withColumn('tip_percent', (col('tip_amount') * 100 / col('fare_amount')))\n",
    "    df = df.withColumn('trip_distance', ceil(col('trip_distance')))\n",
    "\n",
    "    df = df.groupBy('trip_distance').agg({'tip_percent':'mean'})\n",
    "    df = df.withColumnRenamed('avg(tip_percent)', 'tip_percent')\n",
    "    \n",
    "    df = df.orderBy(col('tip_percent').desc()).limit(15)\n",
    "    \n",
    "    \n",
    "    # END YOUR CODE HERE -----------\n",
    "    \n",
    "    return df"
   ]
  },
  {
   "cell_type": "markdown",
   "id": "f0172fe6",
   "metadata": {},
   "source": [
    "### Q1.4"
   ]
  },
  {
   "cell_type": "markdown",
   "id": "4613c906",
   "metadata": {},
   "source": [
    "Determine the average speed at different times of day."
   ]
  },
  {
   "cell_type": "code",
   "execution_count": 192,
   "id": "abff9e24",
   "metadata": {},
   "outputs": [],
   "source": [
    "#export\n",
    "def time_with_most_traffic(df):\n",
    "    '''\n",
    "    input: df a dataframe\n",
    "    output: df a dataframe with following columns:\n",
    "            - time_of_day\n",
    "            - am_avg_speed\n",
    "            - pm_avg_speed\n",
    "            \n",
    "    am_avg_speed and pm_avg_speed are the average trip distance / average trip time calculated for each hour\n",
    "    \n",
    "    '''\n",
    "    \n",
    "    # START YOUR CODE HERE ---------\n",
    "\n",
    "    # Calculate Trip duration\n",
    "    df = df.withColumn(\"trip_duration\", \n",
    "                       (col(\"tpep_dropoff_datetime\").cast(\"timestamp\").cast(\"long\") - \n",
    "                        col(\"tpep_pickup_datetime\").cast(\"timestamp\").cast(\"long\")) / 3600)\n",
    "\n",
    "    # Put time in right format\n",
    "    df = df.withColumn('formatted_time', date_format('tpep_pickup_datetime', 'H'))\n",
    "    df = df.withColumn('time_of_day', (col('formatted_time').cast('int')%12))\n",
    "\n",
    "\n",
    "    df_AM = df.filter(col('formatted_time').cast('int') < 12)\n",
    "    df_PM = df.filter(col('formatted_time').cast('int') >=12)\n",
    "\n",
    "    df_AM = df_AM.select(\n",
    "        col('time_of_day'),\n",
    "        col('trip_duration'),\n",
    "        col('trip_distance'))\n",
    "\n",
    "    # df_AM_F = df.filter(col('time_of_day')==5).select(\n",
    "    #     col('time_of_day'),\n",
    "    #     col('formatted_time'),\n",
    "    #     col('trip_duration'),\n",
    "    #     col('trip_distance')).orderBy(col('formatted_time'))\n",
    "    # df_AM_F.show()\n",
    "\n",
    "    df_PM = df_PM.select(\n",
    "        col('time_of_day'),\n",
    "        col('trip_duration'),\n",
    "        col('trip_distance'))\n",
    "\n",
    "    df_AM = df_AM.groupBy('time_of_day').agg({'trip_duration':'avg','trip_distance': 'avg'}) \\\n",
    "        .withColumn('am_avg_speed', col('avg(trip_distance)') / col('avg(trip_duration)'))\n",
    "    df_PM = df_PM.groupBy('time_of_day').agg({'trip_duration':'avg','trip_distance': 'avg'}) \\\n",
    "        .withColumn('pm_avg_speed', col('avg(trip_distance)') / col('avg(trip_duration)'))\n",
    "\n",
    "    # df_AM.show()\n",
    "    # df_PM.show()\n",
    "    df_All = df_AM.join(df_PM, 'time_of_day', 'outer')\n",
    "\n",
    "    df = df_All.select(\n",
    "        col('time_of_day'),\n",
    "        col('am_avg_speed'),\n",
    "        col('pm_avg_speed'))\n",
    "    \n",
    "    # END YOUR CODE HERE -----------\n",
    "    \n",
    "    return df"
   ]
  },
  {
   "cell_type": "markdown",
   "id": "d40b4e83-0f93-4637-bc3b-34f9fbb9f249",
   "metadata": {},
   "source": [
    "## The below cells are for you to investigate your solutions and will not be graded"
   ]
  },
  {
   "cell_type": "code",
   "execution_count": 156,
   "id": "e3b238c9-7bc7-458a-a3d8-8ce2d686418a",
   "metadata": {},
   "outputs": [],
   "source": [
    "df = load_data()\n",
    "df = clean_data(df)"
   ]
  },
  {
   "cell_type": "code",
   "execution_count": 13,
   "id": "7bbab81e-2317-4b4e-b25a-88f3110a94f8",
   "metadata": {},
   "outputs": [
    {
     "name": "stderr",
     "output_type": "stream",
     "text": [
      "                                                                                \r"
     ]
    },
    {
     "name": "stdout",
     "output_type": "stream",
     "text": [
      "+------------+------------+---------------------+------------------+\n",
      "|PULocationID|DOLocationID|total_passenger_count|   per_person_rate|\n",
      "+------------+------------+---------------------+------------------+\n",
      "|         239|         238|                 62.0|4.2627420733051915|\n",
      "|         237|         236|                 60.0| 4.482500203450521|\n",
      "|         263|         141|                 52.0| 3.419038332425631|\n",
      "|         161|         236|                 42.0| 5.368571326846168|\n",
      "|         148|          79|                 42.0| 4.711904616582961|\n",
      "|         142|         238|                 39.0| 5.054871779221755|\n",
      "|         141|         236|                 37.0| 4.355675774651605|\n",
      "|         239|         143|                 37.0| 4.252162211650127|\n",
      "|         239|         142|                 35.0| 3.817714146205357|\n",
      "|          79|         170|                 34.0| 6.394705828498392|\n",
      "+------------+------------+---------------------+------------------+\n",
      "\n"
     ]
    }
   ],
   "source": [
    "common_pair(df).show()"
   ]
  },
  {
   "cell_type": "code",
   "execution_count": 69,
   "id": "bf7dd12b-4b60-407b-9c52-5b7cb2082cb8",
   "metadata": {},
   "outputs": [
    {
     "name": "stdout",
     "output_type": "stream",
     "text": [
      "+-------------+------------------+\n",
      "|trip_distance|       tip_percent|\n",
      "+-------------+------------------+\n",
      "|            2|15.815527131655559|\n",
      "|           17|15.796441782308916|\n",
      "|           20| 15.11240992123345|\n",
      "|            1|14.991505108704823|\n",
      "|            3|14.886705733807549|\n",
      "|            6|14.521284801943311|\n",
      "|            5|14.245405873948084|\n",
      "|            4|13.831569492912116|\n",
      "|            9|13.814476585827178|\n",
      "|            8| 12.07259674604865|\n",
      "|           19|11.952632334985276|\n",
      "|           10| 11.88049048422389|\n",
      "|            7|10.800575589589778|\n",
      "|           21|10.739019886973427|\n",
      "|           18| 10.69682224321948|\n",
      "+-------------+------------------+\n",
      "\n"
     ]
    }
   ],
   "source": [
    "distance_with_most_tip(df).show()"
   ]
  },
  {
   "cell_type": "code",
   "execution_count": null,
   "id": "7a469b41-d8ae-4c6e-b443-d5e35a800b4c",
   "metadata": {},
   "outputs": [],
   "source": []
  },
  {
   "cell_type": "code",
   "execution_count": 193,
   "id": "a02723df-2490-4234-9292-eea7cebb08ff",
   "metadata": {},
   "outputs": [
    {
     "name": "stdout",
     "output_type": "stream",
     "text": [
      "+-----------+--------------+-------------------+-------------+\n",
      "|time_of_day|formatted_time|      trip_duration|trip_distance|\n",
      "+-----------+--------------+-------------------+-------------+\n",
      "|          5|            17| 23.574444444444445|        22.59|\n",
      "|          5|            17|0.05472222222222222|          .25|\n",
      "|          5|            17| 23.376666666666665|         1.31|\n",
      "+-----------+--------------+-------------------+-------------+\n",
      "\n",
      "+-----------+-------------------+------------------+------------------+\n",
      "|time_of_day| avg(trip_duration)|avg(trip_distance)|      am_avg_speed|\n",
      "+-----------+-------------------+------------------+------------------+\n",
      "|          1|0.22047067901234574| 2.391111111111111|10.845483498407583|\n",
      "|          0|0.29826313960559536|2.7970211102423685| 9.377696197863992|\n",
      "+-----------+-------------------+------------------+------------------+\n",
      "\n",
      "+-----------+-------------------+------------------+------------------+\n",
      "|time_of_day| avg(trip_duration)|avg(trip_distance)|      pm_avg_speed|\n",
      "+-----------+-------------------+------------------+------------------+\n",
      "|          1|0.08097222222222222|             0.415| 5.125214408233276|\n",
      "|          6|             0.4925|              4.92|  9.98984771573604|\n",
      "|          3|0.04111111111111111|               0.0|               0.0|\n",
      "|          5|  15.66861111111111| 8.049999999999999|0.5137660219476305|\n",
      "|          4|0.05597222222222222|               0.0|               0.0|\n",
      "|          8|  9.500055555555557|4.9239999999999995|0.5183127584049215|\n",
      "|          7| 23.404444444444444|              4.31|0.1841530573490315|\n",
      "|         10|  7.970740740740741|4.8999999999999995|0.6147483852980808|\n",
      "|         11|  0.742704081632653|3.4542857142857137| 4.650958301847908|\n",
      "+-----------+-------------------+------------------+------------------+\n",
      "\n",
      "+-----------+------------------+------------------+\n",
      "|time_of_day|      am_avg_speed|      pm_avg_speed|\n",
      "+-----------+------------------+------------------+\n",
      "|          0| 9.377696197863992|              NULL|\n",
      "|          1|10.845483498407583| 5.125214408233276|\n",
      "|          3|              NULL|               0.0|\n",
      "|          4|              NULL|               0.0|\n",
      "|          5|              NULL|0.5137660219476305|\n",
      "|          6|              NULL|  9.98984771573604|\n",
      "|          7|              NULL|0.1841530573490315|\n",
      "|          8|              NULL|0.5183127584049215|\n",
      "|         10|              NULL|0.6147483852980808|\n",
      "|         11|              NULL| 4.650958301847908|\n",
      "+-----------+------------------+------------------+\n",
      "\n"
     ]
    }
   ],
   "source": [
    "time_with_most_traffic(df).show()"
   ]
  }
 ],
 "metadata": {
  "kernelspec": {
   "display_name": "Python 3 (ipykernel)",
   "language": "python",
   "name": "python3"
  },
  "language_info": {
   "codemirror_mode": {
    "name": "ipython",
    "version": 3
   },
   "file_extension": ".py",
   "mimetype": "text/x-python",
   "name": "python",
   "nbconvert_exporter": "python",
   "pygments_lexer": "ipython3",
   "version": "3.9.2"
  }
 },
 "nbformat": 4,
 "nbformat_minor": 5
}
